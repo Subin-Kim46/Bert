{
 "cells": [
  {
   "cell_type": "code",
   "execution_count": 4,
   "id": "c5647c51",
   "metadata": {},
   "outputs": [],
   "source": [
    "import collections\n",
    "import logging\n",
    "import os\n",
    "import math\n",
    "import unicodedata\n",
    "\n",
    "\n",
    "from transformers.tokenization_utils import PreTrainedTokenizer, PreTrainedTokenizerFast\n",
    "\n",
    "\n",
    "logger = logging.getLogger(__name__)\n",
    "\n",
    "VOCAB_FILES_NAMES = {\"vocab_file\": \"vocab.txt\"}\n",
    "\n",
    "\n",
    "\n",
    "\n",
    "PRETRAINED_VOCAB_FILES_MAP = {\"vocab_file\": {\"dna3\": \"https://raw.githubusercontent.com/jerryji1993/DNABERT/master/src/transformers/dnabert-config/bert-config-3/vocab.txt\",\n",
    "                                             \"dna4\": \"https://raw.githubusercontent.com/jerryji1993/DNABERT/master/src/transformers/dnabert-config/bert-config-4/vocab.txt\",\n",
    "                                             \"dna5\": \"https://raw.githubusercontent.com/jerryji1993/DNABERT/master/src/transformers/dnabert-config/bert-config-5/vocab.txt\",\n",
    "                                             \"dna6\": \"https://raw.githubusercontent.com/jerryji1993/DNABERT/master/src/transformers/dnabert-config/bert-config-6/vocab.txt\"}}\n",
    "\n",
    "\n",
    "\n",
    "PRETRAINED_POSITIONAL_EMBEDDINGS_SIZES = {\n",
    "                                          \"dna3\": 512,\n",
    "                                          \"dna4\": 512,\n",
    "                                          \"dna5\": 512,\n",
    "                                          \"dna6\": 512}\n",
    "\n",
    "PRETRAINED_INIT_CONFIGURATION = {\n",
    "    \"dna3\": {\"do_lower_case\": False},\n",
    "    \"dna4\": {\"do_lower_case\": False},\n",
    "    \"dna5\": {\"do_lower_case\": False},\n",
    "    \"dna6\": {\"do_lower_case\": False}}\n",
    "\n",
    "VOCAB_KMER = {\n",
    "    \"69\": \"3\",\n",
    "    \"261\": \"4\",\n",
    "    \"1029\": \"5\",\n",
    "    \"4101\": \"6\",}"
   ]
  },
  {
   "cell_type": "code",
   "execution_count": null,
   "id": "ba3af0b0",
   "metadata": {},
   "outputs": [],
   "source": []
  }
 ],
 "metadata": {
  "kernelspec": {
   "display_name": "Python 3",
   "language": "python",
   "name": "python3"
  },
  "language_info": {
   "codemirror_mode": {
    "name": "ipython",
    "version": 3
   },
   "file_extension": ".py",
   "mimetype": "text/x-python",
   "name": "python",
   "nbconvert_exporter": "python",
   "pygments_lexer": "ipython3",
   "version": "3.6.13"
  }
 },
 "nbformat": 4,
 "nbformat_minor": 5
}
